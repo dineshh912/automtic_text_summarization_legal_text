{
 "cells": [
  {
   "cell_type": "code",
   "execution_count": 46,
   "metadata": {},
   "outputs": [],
   "source": [
    "from scripts.utils import fulltext_conversion\n",
    "import pandas as pd\n",
    "import matplotlib.pyplot as plt"
   ]
  },
  {
   "cell_type": "code",
   "execution_count": 45,
   "metadata": {},
   "outputs": [
    {
     "name": "stdout",
     "output_type": "stream",
     "text": [
      "Collecting matplotlib\n",
      "  Using cached matplotlib-3.3.2-cp37-cp37m-win_amd64.whl (8.5 MB)\n",
      "Collecting kiwisolver>=1.0.1\n",
      "  Downloading kiwisolver-1.3.1-cp37-cp37m-win_amd64.whl (51 kB)\n",
      "Collecting cycler>=0.10\n",
      "  Using cached cycler-0.10.0-py2.py3-none-any.whl (6.5 kB)\n",
      "Requirement already satisfied: numpy>=1.15 in d:\\study\\ds\\leagal-text-summarization\\venv\\lib\\site-packages (from matplotlib) (1.19.3)\n",
      "Requirement already satisfied: certifi>=2020.06.20 in d:\\study\\ds\\leagal-text-summarization\\venv\\lib\\site-packages (from matplotlib) (2020.6.20)\n",
      "Requirement already satisfied: python-dateutil>=2.1 in d:\\study\\ds\\leagal-text-summarization\\venv\\lib\\site-packages (from matplotlib) (2.8.1)\n",
      "Requirement already satisfied: pyparsing!=2.0.4,!=2.1.2,!=2.1.6,>=2.0.3 in d:\\study\\ds\\leagal-text-summarization\\venv\\lib\\site-packages (from matplotlib) (2.4.7)\n",
      "Collecting pillow>=6.2.0\n",
      "  Using cached Pillow-8.0.1-cp37-cp37m-win_amd64.whl (2.1 MB)\n",
      "Requirement already satisfied: six in d:\\study\\ds\\leagal-text-summarization\\venv\\lib\\site-packages (from cycler>=0.10->matplotlib) (1.15.0)\n",
      "Installing collected packages: kiwisolver, cycler, pillow, matplotlib\n",
      "Successfully installed cycler-0.10.0 kiwisolver-1.3.1 matplotlib-3.3.2 pillow-8.0.1\n"
     ]
    }
   ],
   "source": [
    "!pip install matplotlib"
   ]
  },
  {
   "cell_type": "code",
   "execution_count": null,
   "metadata": {},
   "outputs": [],
   "source": []
  },
  {
   "cell_type": "code",
   "execution_count": 5,
   "metadata": {},
   "outputs": [],
   "source": [
    "full_text_folder_location = '../data/raw_data/fulltext/'\n",
    "full_text_ext = \"*.xml\""
   ]
  },
  {
   "cell_type": "code",
   "execution_count": 6,
   "metadata": {},
   "outputs": [
    {
     "data": {
      "text/plain": [
       "'All XML File in the folder are processed.\\n                    Years and court name removed from the sentence\\n                    '"
      ]
     },
     "execution_count": 6,
     "metadata": {},
     "output_type": "execute_result"
    }
   ],
   "source": [
    "# Convert XML Files into Json\n",
    "fulltext_conversion(full_text_folder_location, '*.xml', '0-data')"
   ]
  },
  {
   "cell_type": "code",
   "execution_count": 7,
   "metadata": {},
   "outputs": [],
   "source": [
    "json_file_location = '../data/cleaned_data/cleaned_full_text.json'"
   ]
  },
  {
   "cell_type": "code",
   "execution_count": 9,
   "metadata": {},
   "outputs": [],
   "source": [
    "full_text_df = pd.read_json(json_file_location)"
   ]
  },
  {
   "cell_type": "code",
   "execution_count": 10,
   "metadata": {},
   "outputs": [
    {
     "data": {
      "text/html": [
       "<div>\n",
       "<style scoped>\n",
       "    .dataframe tbody tr th:only-of-type {\n",
       "        vertical-align: middle;\n",
       "    }\n",
       "\n",
       "    .dataframe tbody tr th {\n",
       "        vertical-align: top;\n",
       "    }\n",
       "\n",
       "    .dataframe thead th {\n",
       "        text-align: right;\n",
       "    }\n",
       "</style>\n",
       "<table border=\"1\" class=\"dataframe\">\n",
       "  <thead>\n",
       "    <tr style=\"text-align: right;\">\n",
       "      <th></th>\n",
       "      <th>Sharman Networks Ltd v Universal Music Australia Pty Ltd</th>\n",
       "      <th>Lawrance v Human Rights and Equal Opportunity Commission</th>\n",
       "      <th>Citrus Queensland Pty Ltd v Sunstate Orchards Pty Ltd</th>\n",
       "      <th>Martech International Pty Ltd v Energy World Corporation Limited</th>\n",
       "      <th>Commissioner of Taxation v Milne</th>\n",
       "      <th>SZCCX v Minister for Immigration &amp; Multicultural Affairs</th>\n",
       "      <th>Douglas v Queensland</th>\n",
       "      <th>Regional Publishers Pty Limited v Elkington</th>\n",
       "      <th>SZFBU v Minister for Immigration and Multicultural Affairs</th>\n",
       "      <th>Gidley, in the matter of Aliance Motor Body Pty Limited</th>\n",
       "      <th>...</th>\n",
       "      <th>Aye v Minister for Immigration and Citizenship</th>\n",
       "      <th>Combined Gunggandji People v State of Queensland</th>\n",
       "      <th>Allphones Retail Pty Limited v Australian Competition and Consumer Commission</th>\n",
       "      <th>Purcell v APS Chemicals Superannuation Pty Ltd</th>\n",
       "      <th>Hneidi v Minister for Immigration &amp; Citizenship</th>\n",
       "      <th>Minister for Immigration and Citizenship v SZKJT</th>\n",
       "      <th>Makucha v Fairbrook PMA Pty Ltd</th>\n",
       "      <th>SZMPT v Minister for Immigration and Citizenship</th>\n",
       "      <th>Kowalski v Mitsubishi Motors Australia Ltd</th>\n",
       "      <th>Shu Uan Eao v Commissioner of Taxation of the Commonwealth of Australia</th>\n",
       "    </tr>\n",
       "  </thead>\n",
       "  <tbody>\n",
       "    <tr>\n",
       "      <th>case_name</th>\n",
       "      <td>Sharman Networks Ltd v Universal Music Austral...</td>\n",
       "      <td>Lawrance v Human Rights and Equal Opportunity ...</td>\n",
       "      <td>Citrus Queensland Pty Ltd v Sunstate Orchards ...</td>\n",
       "      <td>Martech International Pty Ltd v Energy World C...</td>\n",
       "      <td>Commissioner of Taxation v Milne</td>\n",
       "      <td>SZCCX v Minister for Immigration &amp; Multicultur...</td>\n",
       "      <td>Douglas v Queensland</td>\n",
       "      <td>Regional Publishers Pty Limited v Elkington</td>\n",
       "      <td>SZFBU v Minister for Immigration and Multicult...</td>\n",
       "      <td>Gidley, in the matter of Aliance Motor Body Pt...</td>\n",
       "      <td>...</td>\n",
       "      <td>Aye v Minister for Immigration and Citizenship</td>\n",
       "      <td>Combined Gunggandji People v State of Queensland</td>\n",
       "      <td>Allphones Retail Pty Limited v Australian Comp...</td>\n",
       "      <td>Purcell v APS Chemicals Superannuation Pty Ltd</td>\n",
       "      <td>Hneidi v Minister for Immigration &amp; Citizenship</td>\n",
       "      <td>Minister for Immigration and Citizenship v SZKJT</td>\n",
       "      <td>Makucha v Fairbrook PMA Pty Ltd</td>\n",
       "      <td>SZMPT v Minister for Immigration and Citizenship</td>\n",
       "      <td>Kowalski v Mitsubishi Motors Australia Ltd</td>\n",
       "      <td>Shu Uan Eao v Commissioner of Taxation of the ...</td>\n",
       "    </tr>\n",
       "    <tr>\n",
       "      <th>catchpharse</th>\n",
       "      <td>[application for leave to appeal, authorisatio...</td>\n",
       "      <td>[no point of principle, administrative law and...</td>\n",
       "      <td>[notice of motion seeking non-party costs agai...</td>\n",
       "      <td>[apportionment, parties successful on one issu...</td>\n",
       "      <td>[context of liability to income tax, review of...</td>\n",
       "      <td>[no point in principle, migration]</td>\n",
       "      <td>[application for permanent stay pursuant to o ...</td>\n",
       "      <td>[compulsory acquisition of shares, shareholder...</td>\n",
       "      <td>[application for extension of time within whic...</td>\n",
       "      <td>[administration, administrator and administrat...</td>\n",
       "      <td>...</td>\n",
       "      <td>[visa cancelled by immigration minister follow...</td>\n",
       "      <td>[deed of grant of land in trust, whether lease...</td>\n",
       "      <td>[preliminary discovery, identity discovery, ap...</td>\n",
       "      <td>[appeal from superannuation complaints tribuna...</td>\n",
       "      <td>[appeal from decision of administrative appeal...</td>\n",
       "      <td>[s 424 of migration act 1958 (cth), high court...</td>\n",
       "      <td>[application for extension of time to appeal f...</td>\n",
       "      <td>[court may have regard to reasons of tribunal ...</td>\n",
       "      <td>[application for judgment, for dismissal of pr...</td>\n",
       "      <td>[procedural fairness, whether inadequate inter...</td>\n",
       "    </tr>\n",
       "    <tr>\n",
       "      <th>full_text</th>\n",
       "      <td>[Background to the current application  1 The ...</td>\n",
       "      <td>[These are two applications for orders of revi...</td>\n",
       "      <td>[In Citrus Queensland Pty Ltd v Sunstate Orcha...</td>\n",
       "      <td>[Introduction  1 Between 1985 and November 200...</td>\n",
       "      <td>[Context to the present application by way of ...</td>\n",
       "      <td>[This is an appeal against the judgment of Fed...</td>\n",
       "      <td>[Following orders of Deputy District Registrar...</td>\n",
       "      <td>[The first and second defendants, Gordon Bradl...</td>\n",
       "      <td>[This is an application for extension of time ...</td>\n",
       "      <td>[This is an application by the plaintiff, Paul...</td>\n",
       "      <td>...</td>\n",
       "      <td>[On 15 August 2007, the applicant was granted ...</td>\n",
       "      <td>[GENERAL  In these proceedings, Mr Les Murgha ...</td>\n",
       "      <td>[INTRODUCTION  In these proceedings the applic...</td>\n",
       "      <td>[Ms Susan Purcell claims an entitlement to a t...</td>\n",
       "      <td>[This is an appeal from a decision of the Admi...</td>\n",
       "      <td>[INTRODUCTION  The appellant (Minister) appeal...</td>\n",
       "      <td>[This is an application for an extension of ti...</td>\n",
       "      <td>[INTRODUCTION  This is an appeal from orders m...</td>\n",
       "      <td>[Mr Kazimir Kowalski has brought a proceeding ...</td>\n",
       "      <td>[One of the principal determinative issues in ...</td>\n",
       "    </tr>\n",
       "  </tbody>\n",
       "</table>\n",
       "<p>3 rows × 3202 columns</p>\n",
       "</div>"
      ],
      "text/plain": [
       "            Sharman Networks Ltd v Universal Music Australia Pty Ltd  \\\n",
       "case_name    Sharman Networks Ltd v Universal Music Austral...         \n",
       "catchpharse  [application for leave to appeal, authorisatio...         \n",
       "full_text    [Background to the current application  1 The ...         \n",
       "\n",
       "            Lawrance v Human Rights and Equal Opportunity Commission  \\\n",
       "case_name    Lawrance v Human Rights and Equal Opportunity ...         \n",
       "catchpharse  [no point of principle, administrative law and...         \n",
       "full_text    [These are two applications for orders of revi...         \n",
       "\n",
       "            Citrus Queensland Pty Ltd v Sunstate Orchards Pty Ltd  \\\n",
       "case_name    Citrus Queensland Pty Ltd v Sunstate Orchards ...      \n",
       "catchpharse  [notice of motion seeking non-party costs agai...      \n",
       "full_text    [In Citrus Queensland Pty Ltd v Sunstate Orcha...      \n",
       "\n",
       "            Martech International Pty Ltd v Energy World Corporation Limited  \\\n",
       "case_name    Martech International Pty Ltd v Energy World C...                 \n",
       "catchpharse  [apportionment, parties successful on one issu...                 \n",
       "full_text    [Introduction  1 Between 1985 and November 200...                 \n",
       "\n",
       "                              Commissioner of Taxation v Milne  \\\n",
       "case_name                     Commissioner of Taxation v Milne   \n",
       "catchpharse  [context of liability to income tax, review of...   \n",
       "full_text    [Context to the present application by way of ...   \n",
       "\n",
       "            SZCCX v Minister for Immigration & Multicultural Affairs  \\\n",
       "case_name    SZCCX v Minister for Immigration & Multicultur...         \n",
       "catchpharse                 [no point in principle, migration]         \n",
       "full_text    [This is an appeal against the judgment of Fed...         \n",
       "\n",
       "                                          Douglas v Queensland  \\\n",
       "case_name                                 Douglas v Queensland   \n",
       "catchpharse  [application for permanent stay pursuant to o ...   \n",
       "full_text    [Following orders of Deputy District Registrar...   \n",
       "\n",
       "                   Regional Publishers Pty Limited v Elkington  \\\n",
       "case_name          Regional Publishers Pty Limited v Elkington   \n",
       "catchpharse  [compulsory acquisition of shares, shareholder...   \n",
       "full_text    [The first and second defendants, Gordon Bradl...   \n",
       "\n",
       "            SZFBU v Minister for Immigration and Multicultural Affairs  \\\n",
       "case_name    SZFBU v Minister for Immigration and Multicult...           \n",
       "catchpharse  [application for extension of time within whic...           \n",
       "full_text    [This is an application for extension of time ...           \n",
       "\n",
       "            Gidley, in the matter of Aliance Motor Body Pty Limited  ...  \\\n",
       "case_name    Gidley, in the matter of Aliance Motor Body Pt...       ...   \n",
       "catchpharse  [administration, administrator and administrat...       ...   \n",
       "full_text    [This is an application by the plaintiff, Paul...       ...   \n",
       "\n",
       "                Aye v Minister for Immigration and Citizenship  \\\n",
       "case_name       Aye v Minister for Immigration and Citizenship   \n",
       "catchpharse  [visa cancelled by immigration minister follow...   \n",
       "full_text    [On 15 August 2007, the applicant was granted ...   \n",
       "\n",
       "              Combined Gunggandji People v State of Queensland  \\\n",
       "case_name     Combined Gunggandji People v State of Queensland   \n",
       "catchpharse  [deed of grant of land in trust, whether lease...   \n",
       "full_text    [GENERAL  In these proceedings, Mr Les Murgha ...   \n",
       "\n",
       "            Allphones Retail Pty Limited v Australian Competition and Consumer Commission  \\\n",
       "case_name    Allphones Retail Pty Limited v Australian Comp...                              \n",
       "catchpharse  [preliminary discovery, identity discovery, ap...                              \n",
       "full_text    [INTRODUCTION  In these proceedings the applic...                              \n",
       "\n",
       "                Purcell v APS Chemicals Superannuation Pty Ltd  \\\n",
       "case_name       Purcell v APS Chemicals Superannuation Pty Ltd   \n",
       "catchpharse  [appeal from superannuation complaints tribuna...   \n",
       "full_text    [Ms Susan Purcell claims an entitlement to a t...   \n",
       "\n",
       "               Hneidi v Minister for Immigration & Citizenship  \\\n",
       "case_name      Hneidi v Minister for Immigration & Citizenship   \n",
       "catchpharse  [appeal from decision of administrative appeal...   \n",
       "full_text    [This is an appeal from a decision of the Admi...   \n",
       "\n",
       "              Minister for Immigration and Citizenship v SZKJT  \\\n",
       "case_name     Minister for Immigration and Citizenship v SZKJT   \n",
       "catchpharse  [s 424 of migration act 1958 (cth), high court...   \n",
       "full_text    [INTRODUCTION  The appellant (Minister) appeal...   \n",
       "\n",
       "                               Makucha v Fairbrook PMA Pty Ltd  \\\n",
       "case_name                      Makucha v Fairbrook PMA Pty Ltd   \n",
       "catchpharse  [application for extension of time to appeal f...   \n",
       "full_text    [This is an application for an extension of ti...   \n",
       "\n",
       "              SZMPT v Minister for Immigration and Citizenship  \\\n",
       "case_name     SZMPT v Minister for Immigration and Citizenship   \n",
       "catchpharse  [court may have regard to reasons of tribunal ...   \n",
       "full_text    [INTRODUCTION  This is an appeal from orders m...   \n",
       "\n",
       "                    Kowalski v Mitsubishi Motors Australia Ltd  \\\n",
       "case_name           Kowalski v Mitsubishi Motors Australia Ltd   \n",
       "catchpharse  [application for judgment, for dismissal of pr...   \n",
       "full_text    [Mr Kazimir Kowalski has brought a proceeding ...   \n",
       "\n",
       "            Shu Uan Eao v Commissioner of Taxation of the Commonwealth of Australia  \n",
       "case_name    Shu Uan Eao v Commissioner of Taxation of the ...                       \n",
       "catchpharse  [procedural fairness, whether inadequate inter...                       \n",
       "full_text    [One of the principal determinative issues in ...                       \n",
       "\n",
       "[3 rows x 3202 columns]"
      ]
     },
     "execution_count": 10,
     "metadata": {},
     "output_type": "execute_result"
    }
   ],
   "source": [
    "full_text_df.head()"
   ]
  },
  {
   "cell_type": "code",
   "execution_count": 11,
   "metadata": {},
   "outputs": [],
   "source": [
    "full_text_df = full_text_df.T"
   ]
  },
  {
   "cell_type": "code",
   "execution_count": 12,
   "metadata": {},
   "outputs": [
    {
     "data": {
      "text/html": [
       "<div>\n",
       "<style scoped>\n",
       "    .dataframe tbody tr th:only-of-type {\n",
       "        vertical-align: middle;\n",
       "    }\n",
       "\n",
       "    .dataframe tbody tr th {\n",
       "        vertical-align: top;\n",
       "    }\n",
       "\n",
       "    .dataframe thead th {\n",
       "        text-align: right;\n",
       "    }\n",
       "</style>\n",
       "<table border=\"1\" class=\"dataframe\">\n",
       "  <thead>\n",
       "    <tr style=\"text-align: right;\">\n",
       "      <th></th>\n",
       "      <th>case_name</th>\n",
       "      <th>catchpharse</th>\n",
       "      <th>full_text</th>\n",
       "    </tr>\n",
       "  </thead>\n",
       "  <tbody>\n",
       "    <tr>\n",
       "      <th>Sharman Networks Ltd v Universal Music Australia Pty Ltd</th>\n",
       "      <td>Sharman Networks Ltd v Universal Music Austral...</td>\n",
       "      <td>[application for leave to appeal, authorisatio...</td>\n",
       "      <td>[Background to the current application  1 The ...</td>\n",
       "    </tr>\n",
       "    <tr>\n",
       "      <th>Lawrance v Human Rights and Equal Opportunity Commission</th>\n",
       "      <td>Lawrance v Human Rights and Equal Opportunity ...</td>\n",
       "      <td>[no point of principle, administrative law and...</td>\n",
       "      <td>[These are two applications for orders of revi...</td>\n",
       "    </tr>\n",
       "    <tr>\n",
       "      <th>Citrus Queensland Pty Ltd v Sunstate Orchards Pty Ltd</th>\n",
       "      <td>Citrus Queensland Pty Ltd v Sunstate Orchards ...</td>\n",
       "      <td>[notice of motion seeking non-party costs agai...</td>\n",
       "      <td>[In Citrus Queensland Pty Ltd v Sunstate Orcha...</td>\n",
       "    </tr>\n",
       "    <tr>\n",
       "      <th>Martech International Pty Ltd v Energy World Corporation Limited</th>\n",
       "      <td>Martech International Pty Ltd v Energy World C...</td>\n",
       "      <td>[apportionment, parties successful on one issu...</td>\n",
       "      <td>[Introduction  1 Between 1985 and November 200...</td>\n",
       "    </tr>\n",
       "    <tr>\n",
       "      <th>Commissioner of Taxation v Milne</th>\n",
       "      <td>Commissioner of Taxation v Milne</td>\n",
       "      <td>[context of liability to income tax, review of...</td>\n",
       "      <td>[Context to the present application by way of ...</td>\n",
       "    </tr>\n",
       "  </tbody>\n",
       "</table>\n",
       "</div>"
      ],
      "text/plain": [
       "                                                                                            case_name  \\\n",
       "Sharman Networks Ltd v Universal Music Australi...  Sharman Networks Ltd v Universal Music Austral...   \n",
       "Lawrance v Human Rights and Equal Opportunity C...  Lawrance v Human Rights and Equal Opportunity ...   \n",
       "Citrus Queensland Pty Ltd v Sunstate Orchards P...  Citrus Queensland Pty Ltd v Sunstate Orchards ...   \n",
       "Martech International Pty Ltd v Energy World Co...  Martech International Pty Ltd v Energy World C...   \n",
       "Commissioner of Taxation v Milne                                     Commissioner of Taxation v Milne   \n",
       "\n",
       "                                                                                          catchpharse  \\\n",
       "Sharman Networks Ltd v Universal Music Australi...  [application for leave to appeal, authorisatio...   \n",
       "Lawrance v Human Rights and Equal Opportunity C...  [no point of principle, administrative law and...   \n",
       "Citrus Queensland Pty Ltd v Sunstate Orchards P...  [notice of motion seeking non-party costs agai...   \n",
       "Martech International Pty Ltd v Energy World Co...  [apportionment, parties successful on one issu...   \n",
       "Commissioner of Taxation v Milne                    [context of liability to income tax, review of...   \n",
       "\n",
       "                                                                                            full_text  \n",
       "Sharman Networks Ltd v Universal Music Australi...  [Background to the current application  1 The ...  \n",
       "Lawrance v Human Rights and Equal Opportunity C...  [These are two applications for orders of revi...  \n",
       "Citrus Queensland Pty Ltd v Sunstate Orchards P...  [In Citrus Queensland Pty Ltd v Sunstate Orcha...  \n",
       "Martech International Pty Ltd v Energy World Co...  [Introduction  1 Between 1985 and November 200...  \n",
       "Commissioner of Taxation v Milne                    [Context to the present application by way of ...  "
      ]
     },
     "execution_count": 12,
     "metadata": {},
     "output_type": "execute_result"
    }
   ],
   "source": [
    "full_text_df.head()"
   ]
  },
  {
   "cell_type": "code",
   "execution_count": 13,
   "metadata": {},
   "outputs": [],
   "source": [
    "full_text_df.set_index('case_name', inplace=True)"
   ]
  },
  {
   "cell_type": "code",
   "execution_count": 14,
   "metadata": {},
   "outputs": [
    {
     "data": {
      "text/html": [
       "<div>\n",
       "<style scoped>\n",
       "    .dataframe tbody tr th:only-of-type {\n",
       "        vertical-align: middle;\n",
       "    }\n",
       "\n",
       "    .dataframe tbody tr th {\n",
       "        vertical-align: top;\n",
       "    }\n",
       "\n",
       "    .dataframe thead th {\n",
       "        text-align: right;\n",
       "    }\n",
       "</style>\n",
       "<table border=\"1\" class=\"dataframe\">\n",
       "  <thead>\n",
       "    <tr style=\"text-align: right;\">\n",
       "      <th></th>\n",
       "      <th>catchpharse</th>\n",
       "      <th>full_text</th>\n",
       "    </tr>\n",
       "    <tr>\n",
       "      <th>case_name</th>\n",
       "      <th></th>\n",
       "      <th></th>\n",
       "    </tr>\n",
       "  </thead>\n",
       "  <tbody>\n",
       "    <tr>\n",
       "      <th>Sharman Networks Ltd v Universal Music Australia Pty Ltd</th>\n",
       "      <td>[application for leave to appeal, authorisatio...</td>\n",
       "      <td>[Background to the current application  1 The ...</td>\n",
       "    </tr>\n",
       "    <tr>\n",
       "      <th>Lawrance v Human Rights and Equal Opportunity Commission</th>\n",
       "      <td>[no point of principle, administrative law and...</td>\n",
       "      <td>[These are two applications for orders of revi...</td>\n",
       "    </tr>\n",
       "    <tr>\n",
       "      <th>Citrus Queensland Pty Ltd v Sunstate Orchards Pty Ltd</th>\n",
       "      <td>[notice of motion seeking non-party costs agai...</td>\n",
       "      <td>[In Citrus Queensland Pty Ltd v Sunstate Orcha...</td>\n",
       "    </tr>\n",
       "    <tr>\n",
       "      <th>Martech International Pty Ltd v Energy World Corporation Limited</th>\n",
       "      <td>[apportionment, parties successful on one issu...</td>\n",
       "      <td>[Introduction  1 Between 1985 and November 200...</td>\n",
       "    </tr>\n",
       "    <tr>\n",
       "      <th>Commissioner of Taxation v Milne</th>\n",
       "      <td>[context of liability to income tax, review of...</td>\n",
       "      <td>[Context to the present application by way of ...</td>\n",
       "    </tr>\n",
       "  </tbody>\n",
       "</table>\n",
       "</div>"
      ],
      "text/plain": [
       "                                                                                          catchpharse  \\\n",
       "case_name                                                                                               \n",
       "Sharman Networks Ltd v Universal Music Australi...  [application for leave to appeal, authorisatio...   \n",
       "Lawrance v Human Rights and Equal Opportunity C...  [no point of principle, administrative law and...   \n",
       "Citrus Queensland Pty Ltd v Sunstate Orchards P...  [notice of motion seeking non-party costs agai...   \n",
       "Martech International Pty Ltd v Energy World Co...  [apportionment, parties successful on one issu...   \n",
       "Commissioner of Taxation v Milne                    [context of liability to income tax, review of...   \n",
       "\n",
       "                                                                                            full_text  \n",
       "case_name                                                                                              \n",
       "Sharman Networks Ltd v Universal Music Australi...  [Background to the current application  1 The ...  \n",
       "Lawrance v Human Rights and Equal Opportunity C...  [These are two applications for orders of revi...  \n",
       "Citrus Queensland Pty Ltd v Sunstate Orchards P...  [In Citrus Queensland Pty Ltd v Sunstate Orcha...  \n",
       "Martech International Pty Ltd v Energy World Co...  [Introduction  1 Between 1985 and November 200...  \n",
       "Commissioner of Taxation v Milne                    [Context to the present application by way of ...  "
      ]
     },
     "execution_count": 14,
     "metadata": {},
     "output_type": "execute_result"
    }
   ],
   "source": [
    "full_text_df.head()"
   ]
  },
  {
   "cell_type": "code",
   "execution_count": 15,
   "metadata": {},
   "outputs": [
    {
     "name": "stdout",
     "output_type": "stream",
     "text": [
      "<class 'pandas.core.frame.DataFrame'>\n",
      "Index: 3202 entries, Sharman Networks Ltd v Universal Music Australia Pty Ltd to Shu Uan Eao v Commissioner of Taxation of the Commonwealth of Australia\n",
      "Data columns (total 2 columns):\n",
      " #   Column       Non-Null Count  Dtype \n",
      "---  ------       --------------  ----- \n",
      " 0   catchpharse  3202 non-null   object\n",
      " 1   full_text    3202 non-null   object\n",
      "dtypes: object(2)\n",
      "memory usage: 75.0+ KB\n"
     ]
    }
   ],
   "source": [
    "full_text_df.info()"
   ]
  },
  {
   "cell_type": "code",
   "execution_count": 16,
   "metadata": {},
   "outputs": [
    {
     "data": {
      "text/html": [
       "<div>\n",
       "<style scoped>\n",
       "    .dataframe tbody tr th:only-of-type {\n",
       "        vertical-align: middle;\n",
       "    }\n",
       "\n",
       "    .dataframe tbody tr th {\n",
       "        vertical-align: top;\n",
       "    }\n",
       "\n",
       "    .dataframe thead th {\n",
       "        text-align: right;\n",
       "    }\n",
       "</style>\n",
       "<table border=\"1\" class=\"dataframe\">\n",
       "  <thead>\n",
       "    <tr style=\"text-align: right;\">\n",
       "      <th></th>\n",
       "      <th>catchpharse</th>\n",
       "      <th>full_text</th>\n",
       "    </tr>\n",
       "  </thead>\n",
       "  <tbody>\n",
       "    <tr>\n",
       "      <th>count</th>\n",
       "      <td>3202</td>\n",
       "      <td>3202</td>\n",
       "    </tr>\n",
       "    <tr>\n",
       "      <th>unique</th>\n",
       "      <td>3116</td>\n",
       "      <td>3202</td>\n",
       "    </tr>\n",
       "    <tr>\n",
       "      <th>top</th>\n",
       "      <td>[no point of principle, migration]</td>\n",
       "      <td>[Introduction This is one of many cases arisin...</td>\n",
       "    </tr>\n",
       "    <tr>\n",
       "      <th>freq</th>\n",
       "      <td>40</td>\n",
       "      <td>1</td>\n",
       "    </tr>\n",
       "  </tbody>\n",
       "</table>\n",
       "</div>"
      ],
      "text/plain": [
       "                               catchpharse  \\\n",
       "count                                 3202   \n",
       "unique                                3116   \n",
       "top     [no point of principle, migration]   \n",
       "freq                                    40   \n",
       "\n",
       "                                                full_text  \n",
       "count                                                3202  \n",
       "unique                                               3202  \n",
       "top     [Introduction This is one of many cases arisin...  \n",
       "freq                                                    1  "
      ]
     },
     "execution_count": 16,
     "metadata": {},
     "output_type": "execute_result"
    }
   ],
   "source": [
    "full_text_df.describe()"
   ]
  },
  {
   "cell_type": "code",
   "execution_count": 21,
   "metadata": {},
   "outputs": [
    {
     "data": {
      "text/plain": [
       "11"
      ]
     },
     "execution_count": 21,
     "metadata": {},
     "output_type": "execute_result"
    }
   ],
   "source": [
    "len(full_text_df['catchpharse'][0])"
   ]
  },
  {
   "cell_type": "code",
   "execution_count": 20,
   "metadata": {},
   "outputs": [
    {
     "data": {
      "text/plain": [
       "233"
      ]
     },
     "execution_count": 20,
     "metadata": {},
     "output_type": "execute_result"
    }
   ],
   "source": [
    "len(full_text_df['full_text'][0])"
   ]
  },
  {
   "cell_type": "code",
   "execution_count": 26,
   "metadata": {},
   "outputs": [
    {
     "data": {
      "text/plain": [
       "catchpharse    False\n",
       "full_text      False\n",
       "dtype: bool"
      ]
     },
     "execution_count": 26,
     "metadata": {},
     "output_type": "execute_result"
    }
   ],
   "source": [
    "full_text_df.isnull().any()"
   ]
  },
  {
   "cell_type": "code",
   "execution_count": 36,
   "metadata": {},
   "outputs": [],
   "source": [
    "# Find length of sententces in each case catchpharse and fulltext\n",
    "catch_pharse_length = []\n",
    "full_text_length = []\n",
    "for index, row in full_text_df.iterrows():\n",
    "    catch_pharse_length.append(len(row['catchpharse']))\n",
    "    full_text_length.append(len(row['full_text']))\n",
    "\n",
    "d = {\"catchpharse\": catch_pharse_length, \"full_text\": full_text_length}\n",
    "full_text_len_df = pd.DataFrame(data=d)"
   ]
  },
  {
   "cell_type": "code",
   "execution_count": 37,
   "metadata": {},
   "outputs": [
    {
     "data": {
      "text/html": [
       "<div>\n",
       "<style scoped>\n",
       "    .dataframe tbody tr th:only-of-type {\n",
       "        vertical-align: middle;\n",
       "    }\n",
       "\n",
       "    .dataframe tbody tr th {\n",
       "        vertical-align: top;\n",
       "    }\n",
       "\n",
       "    .dataframe thead th {\n",
       "        text-align: right;\n",
       "    }\n",
       "</style>\n",
       "<table border=\"1\" class=\"dataframe\">\n",
       "  <thead>\n",
       "    <tr style=\"text-align: right;\">\n",
       "      <th></th>\n",
       "      <th>catchpharse</th>\n",
       "      <th>full_text</th>\n",
       "    </tr>\n",
       "  </thead>\n",
       "  <tbody>\n",
       "    <tr>\n",
       "      <th>0</th>\n",
       "      <td>11</td>\n",
       "      <td>233</td>\n",
       "    </tr>\n",
       "    <tr>\n",
       "      <th>1</th>\n",
       "      <td>2</td>\n",
       "      <td>52</td>\n",
       "    </tr>\n",
       "    <tr>\n",
       "      <th>2</th>\n",
       "      <td>6</td>\n",
       "      <td>43</td>\n",
       "    </tr>\n",
       "    <tr>\n",
       "      <th>3</th>\n",
       "      <td>11</td>\n",
       "      <td>92</td>\n",
       "    </tr>\n",
       "    <tr>\n",
       "      <th>4</th>\n",
       "      <td>5</td>\n",
       "      <td>239</td>\n",
       "    </tr>\n",
       "  </tbody>\n",
       "</table>\n",
       "</div>"
      ],
      "text/plain": [
       "   catchpharse  full_text\n",
       "0           11        233\n",
       "1            2         52\n",
       "2            6         43\n",
       "3           11         92\n",
       "4            5        239"
      ]
     },
     "execution_count": 37,
     "metadata": {},
     "output_type": "execute_result"
    }
   ],
   "source": [
    "full_text_len_df.head()"
   ]
  },
  {
   "cell_type": "code",
   "execution_count": 39,
   "metadata": {},
   "outputs": [
    {
     "data": {
      "text/plain": [
       "(3202, 2)"
      ]
     },
     "execution_count": 39,
     "metadata": {},
     "output_type": "execute_result"
    }
   ],
   "source": [
    "full_text_len_df.shape"
   ]
  },
  {
   "cell_type": "code",
   "execution_count": 40,
   "metadata": {},
   "outputs": [
    {
     "data": {
      "text/html": [
       "<div>\n",
       "<style scoped>\n",
       "    .dataframe tbody tr th:only-of-type {\n",
       "        vertical-align: middle;\n",
       "    }\n",
       "\n",
       "    .dataframe tbody tr th {\n",
       "        vertical-align: top;\n",
       "    }\n",
       "\n",
       "    .dataframe thead th {\n",
       "        text-align: right;\n",
       "    }\n",
       "</style>\n",
       "<table border=\"1\" class=\"dataframe\">\n",
       "  <thead>\n",
       "    <tr style=\"text-align: right;\">\n",
       "      <th></th>\n",
       "      <th>catchpharse</th>\n",
       "      <th>full_text</th>\n",
       "    </tr>\n",
       "  </thead>\n",
       "  <tbody>\n",
       "    <tr>\n",
       "      <th>count</th>\n",
       "      <td>3202.000000</td>\n",
       "      <td>3202.000000</td>\n",
       "    </tr>\n",
       "    <tr>\n",
       "      <th>mean</th>\n",
       "      <td>7.874453</td>\n",
       "      <td>205.199563</td>\n",
       "    </tr>\n",
       "    <tr>\n",
       "      <th>std</th>\n",
       "      <td>5.723984</td>\n",
       "      <td>317.613619</td>\n",
       "    </tr>\n",
       "    <tr>\n",
       "      <th>min</th>\n",
       "      <td>1.000000</td>\n",
       "      <td>3.000000</td>\n",
       "    </tr>\n",
       "    <tr>\n",
       "      <th>25%</th>\n",
       "      <td>4.000000</td>\n",
       "      <td>70.000000</td>\n",
       "    </tr>\n",
       "    <tr>\n",
       "      <th>50%</th>\n",
       "      <td>6.000000</td>\n",
       "      <td>128.000000</td>\n",
       "    </tr>\n",
       "    <tr>\n",
       "      <th>75%</th>\n",
       "      <td>10.000000</td>\n",
       "      <td>232.000000</td>\n",
       "    </tr>\n",
       "    <tr>\n",
       "      <th>max</th>\n",
       "      <td>65.000000</td>\n",
       "      <td>5674.000000</td>\n",
       "    </tr>\n",
       "  </tbody>\n",
       "</table>\n",
       "</div>"
      ],
      "text/plain": [
       "       catchpharse    full_text\n",
       "count  3202.000000  3202.000000\n",
       "mean      7.874453   205.199563\n",
       "std       5.723984   317.613619\n",
       "min       1.000000     3.000000\n",
       "25%       4.000000    70.000000\n",
       "50%       6.000000   128.000000\n",
       "75%      10.000000   232.000000\n",
       "max      65.000000  5674.000000"
      ]
     },
     "execution_count": 40,
     "metadata": {},
     "output_type": "execute_result"
    }
   ],
   "source": [
    "full_text_len_df.describe()"
   ]
  },
  {
   "cell_type": "code",
   "execution_count": 67,
   "metadata": {},
   "outputs": [
    {
     "data": {
      "text/plain": [
       "<AxesSubplot:>"
      ]
     },
     "execution_count": 67,
     "metadata": {},
     "output_type": "execute_result"
    },
    {
     "data": {
      "image/png": "[encoded data removed]",
      "text/plain": [
       "<Figure size 432x288 with 1 Axes>"
      ]
     },
     "metadata": {
      "needs_background": "light"
     },
     "output_type": "display_data"
    }
   ],
   "source": [
    "full_text_len_df['catchpharse'].hist(bins=100, grid=False)"
   ]
  },
  {
   "cell_type": "code",
   "execution_count": 68,
   "metadata": {},
   "outputs": [
    {
     "data": {
      "text/plain": [
       "<AxesSubplot:>"
      ]
     },
     "execution_count": 68,
     "metadata": {},
     "output_type": "execute_result"
    },
    {
     "data": {
      "image/png": "[encoded data removed]",
      "text/plain": [
       "<Figure size 432x288 with 1 Axes>"
      ]
     },
     "metadata": {
      "needs_background": "light"
     },
     "output_type": "display_data"
    }
   ],
   "source": [
    "full_text_len_df['full_text'].hist(bins=80, grid=False)"
   ]
  },
  {
   "cell_type": "code",
   "execution_count": null,
   "metadata": {},
   "outputs": [],
   "source": []
  }
 ],
 "metadata": {
  "kernelspec": {
   "display_name": "Python 3",
   "language": "python",
   "name": "python3"
  },
  "language_info": {
   "codemirror_mode": {
    "name": "ipython",
    "version": 3
   },
   "file_extension": ".py",
   "mimetype": "text/x-python",
   "name": "python",
   "nbconvert_exporter": "python",
   "pygments_lexer": "ipython3",
   "version": "3.7.8"
  }
 },
 "nbformat": 4,
 "nbformat_minor": 4
}
